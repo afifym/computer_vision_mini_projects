{
 "cells": [
  {
   "cell_type": "markdown",
   "metadata": {},
   "source": [
    "# Problem Solving:\n",
    "\n",
    "**1. Undsertand**\n",
    "- A series of images => The movement path of an object of interest\n",
    "\n",
    "**2. Break**\n",
    "- C1 -- Detecting the Object in a single Image using color and shape.\n",
    "- C2 -- Storing Object Locations in a pre-specified number of frames.\n",
    "- C3 -- Indicating the stored locations with drawings.\n",
    "- C4 -- Indicate Movement using the drawing dimensions.\n",
    "\n",
    "**3. Mechanism**\n",
    "- C1 <= Using color Masking\n",
    "- C2 <= Using a data structure (e.g. queue) with a fixed size.\n",
    "- C3 <= cv2.drawCircle() and read the data structure.\n",
    "- C4 <= Use queue indices to indicate how old the location is (e.g. FIFO)."
   ]
  },
  {
   "cell_type": "code",
   "execution_count": 2,
   "metadata": {},
   "outputs": [],
   "source": [
    "import cv2\n",
    "import numpy as np\n",
    "import helper_functions as hf\n",
    "\n",
    "from collections import deque\n",
    "from queue import Queue, LifoQueue"
   ]
  },
  {
   "cell_type": "code",
   "execution_count": 10,
   "metadata": {},
   "outputs": [],
   "source": [
    "cap = cv2.VideoCapture(0)\n",
    "\n",
    "LOWER = (50, 0, 0)\n",
    "UPPER = (100, 255, 255)\n",
    "\n",
    "locations = deque(maxlen=64)\n",
    "\n",
    "while True:\n",
    "    ret, image = cap.read()\n",
    "    \n",
    "    blur = 5\n",
    "    blurred = cv2.GaussianBlur(image, (blur, blur), 0)\n",
    "    hsv = cv2.cvtColor(blurred, cv2.COLOR_BGR2HSV)\n",
    "    \n",
    "    mask = hf.mask_from_color(hsv,LOWER, UPPER, erode=2, dilate=2)\n",
    "\n",
    "    cnts, _ = cv2.findContours(mask, cv2.RETR_EXTERNAL, cv2.CHAIN_APPROX_SIMPLE)\n",
    "\n",
    "    if len(cnts) > 0:\n",
    "        c = max(cnts, key=cv2.contourArea)\n",
    "        cv2.drawContours(image, [c], -1, hf.GREEN, 5)\n",
    "    \n",
    "        M = cv2.moments(c)\n",
    "        cX = int(M[\"m10\"] / (M[\"m00\"]) + 0.01)\n",
    "        cY = int(M[\"m01\"] / (M[\"m00\"]) + 0.01)\n",
    "        cv2.circle(image, (cX, cY), 7, hf.GREEN, -1)\n",
    "    \n",
    "    \n",
    "        \"\"\"C2-4\n",
    "        \"\"\"\n",
    "        locations.appendleft((cX, cY))\n",
    "        for i in range(1, len(locations)-1):\n",
    "            thickness = int(np.sqrt(64 / float(i + 1)) * 2.5)\n",
    "            cv2.line(image, locations[i - 1], locations[i], hf.GREEN, thickness)\n",
    "        \n",
    "        \"\"\"C2-4\n",
    "        \"\"\"\n",
    "    \n",
    "    cv2.imshow('output', np.hstack([image, cv2.cvtColor(mask, cv2.COLOR_GRAY2BGR)]))\n",
    "    \n",
    "    if cv2.waitKey(25) & 0xFF == ord('q'): break\n",
    "cv2.destroyAllWindows()"
   ]
  }
 ],
 "metadata": {
  "kernelspec": {
   "display_name": "Python 3",
   "language": "python",
   "name": "python3"
  },
  "language_info": {
   "codemirror_mode": {
    "name": "ipython",
    "version": 3
   },
   "file_extension": ".py",
   "mimetype": "text/x-python",
   "name": "python",
   "nbconvert_exporter": "python",
   "pygments_lexer": "ipython3",
   "version": "3.7.6"
  }
 },
 "nbformat": 4,
 "nbformat_minor": 4
}
