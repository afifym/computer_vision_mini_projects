{
 "cells": [
  {
   "cell_type": "code",
   "execution_count": 4,
   "metadata": {},
   "outputs": [],
   "source": [
    "import cv2\n",
    "import numpy as np\n",
    "import helper_functions as hf"
   ]
  },
  {
   "cell_type": "code",
   "execution_count": 6,
   "metadata": {},
   "outputs": [
    {
     "name": "stdout",
     "output_type": "stream",
     "text": [
      "(576, 1024)\n",
      "(576, 1024)\n",
      "(576, 1024)\n",
      "(576, 1024)\n",
      "(576, 1024)\n",
      "(576, 1024)\n",
      "(576, 1024)\n",
      "(576, 1024)\n",
      "(576, 1024)\n",
      "(576, 1024)\n",
      "(576, 1024)\n",
      "(576, 1024)\n",
      "(576, 1024)\n",
      "(576, 1024)\n",
      "(576, 1024)\n",
      "(576, 1024)\n",
      "(576, 1024)\n",
      "(576, 1024)\n",
      "(576, 1024)\n",
      "(576, 1024)\n",
      "(576, 1024)\n",
      "(576, 1024)\n",
      "(576, 1024)\n",
      "(576, 1024)\n",
      "(576, 1024)\n",
      "(576, 1024)\n",
      "(576, 1024)\n",
      "(576, 1024)\n",
      "(576, 1024)\n",
      "(576, 1024)\n",
      "(576, 1024)\n",
      "(576, 1024)\n",
      "(576, 1024)\n",
      "(576, 1024)\n",
      "(576, 1024)\n",
      "(576, 1024)\n"
     ]
    }
   ],
   "source": [
    "\"\"\"Murmuration Video Source: https://www.youtube.com/watch?v=tCjaCuHhq6I&t=4s\n",
    "\"\"\"\n",
    "\n",
    "cap = cv2.VideoCapture(\"Starlings_2.mp4\")\n",
    "out = cv2.VideoWriter('output.avi',cv2.VideoWriter_fourcc('M','J','P','G'), 24, (1024, 576))\n",
    "\n",
    "\n",
    "while True:\n",
    "    \n",
    "    ret, image_1 = cap.read()\n",
    "    ret, image_2 = cap.read()\n",
    "    background = cv2.imread(\"background.jpg\")\n",
    "    \n",
    "    diff = cv2.absdiff(image_1, image_2)\n",
    "    mask = cv2.cvtColor(diff, cv2.COLOR_BGR2GRAY)\n",
    "    threshold = 50\n",
    "    mask = mask > threshold\n",
    "    canvas = np.zeros_like(image_2, np.uint8)\n",
    "    canvas[mask] = image_2[mask]\n",
    "    background[mask] = image_2[mask]\n",
    "    \n",
    "    background = hf.resize_same(background, new_width=1024)\n",
    "    gry = cv2.cvtColor(background, cv2.COLOR_BGR2GRAY)\n",
    "    \n",
    "    cv2.imshow(\"output\", gry)\n",
    "    out.write(cv2.cvtColor(gry, cv2.COLOR_GRAY2BGR))\n",
    "    \n",
    "    if cv2.waitKey(25) & 0xFF == ord('q'): break\n",
    "        \n",
    "cv2.destroyAllWindows()\n",
    "out.release()\n",
    "cap.release()"
   ]
  }
 ],
 "metadata": {
  "kernelspec": {
   "display_name": "Python 3",
   "language": "python",
   "name": "python3"
  },
  "language_info": {
   "codemirror_mode": {
    "name": "ipython",
    "version": 3
   },
   "file_extension": ".py",
   "mimetype": "text/x-python",
   "name": "python",
   "nbconvert_exporter": "python",
   "pygments_lexer": "ipython3",
   "version": "3.7.6"
  }
 },
 "nbformat": 4,
 "nbformat_minor": 4
}
