{
 "cells": [
  {
   "cell_type": "code",
   "execution_count": 6,
   "metadata": {},
   "outputs": [],
   "source": [
    "import cv2\n",
    "import numpy as np"
   ]
  },
  {
   "cell_type": "code",
   "execution_count": 7,
   "metadata": {},
   "outputs": [],
   "source": [
    "def mask_from_color(image_hsv, lower, upper, erode=0, dilate=0):\n",
    "    \n",
    "    mask = cv2.inRange(image_hsv, lower, upper)\n",
    "    \n",
    "    if erode: mask = cv2.erode(mask, None, iterations=erode)\n",
    "    if dilate: mask = cv2.dilate(mask, None, iterations=dilate)\n",
    "    \n",
    "    return mask\n",
    "\n",
    "def resize_same(image, new_height=False, new_width=False):\n",
    "    ar = image.shape[1]/image.shape[0]\n",
    "    \n",
    "    if new_height: \n",
    "        new_width = int(ar * new_height)\n",
    "    elif new_width: \n",
    "        new_height = int(new_width/ar)\n",
    "    \n",
    "    return cv2.resize(image, dsize=(new_width, new_height))"
   ]
  },
  {
   "cell_type": "code",
   "execution_count": 8,
   "metadata": {
    "scrolled": true
   },
   "outputs": [],
   "source": [
    "BLUE, GREEN, RED = (255, 0, 0), (0, 255, 0), (0, 0, 255)\n",
    "RED_LOWER, RED_UPPER = (0, 100, 100), (10, 230, 230)\n",
    "WHITE_LOWER, WHITE_UPPER = (200, 200, 200), (255, 255, 255)\n",
    "GREEN_LOWER, GREEN_UPPER = (80/2, 100, 100), (120/2, 230, 230)\n",
    "\n",
    "cap = cv2.VideoCapture('video.mp4')\n",
    "\n",
    "while True:\n",
    "    ret, image = cap.read()\n",
    "    \n",
    "    if not ret: break\n",
    "        \n",
    "    blur = 5\n",
    "    blurred = cv2.GaussianBlur(image, (blur, blur), 0)\n",
    "    img = resize_same(blurred, new_width=800)\n",
    "    hsv = cv2.cvtColor(img, cv2.COLOR_BGR2HSV)\n",
    "    \n",
    "    ground_mask = np.zeros((img.shape[0], img.shape[1]), dtype=np.uint8)\n",
    "    players_mask = np.zeros((img.shape[0], img.shape[1]), dtype=np.uint8)\n",
    "    \n",
    "    green_mask = mask_from_color(hsv, GREEN_LOWER, GREEN_UPPER, erode=2, dilate=5)\n",
    "    cnts, _ = cv2.findContours(green_mask, cv2.RETR_EXTERNAL, cv2.CHAIN_APPROX_SIMPLE)\n",
    "    c = max(cnts, key=cv2.contourArea)\n",
    "    cv2.drawContours(ground_mask, [c], -1, 255, -1)\n",
    "    img_ground = cv2.bitwise_and(img, img, mask = ground_mask)\n",
    "    \n",
    "    red_mask = mask_from_color(hsv, RED_LOWER, RED_UPPER, dilate=10)\n",
    "    img_red = cv2.bitwise_and(img_ground, img_ground, mask = red_mask)\n",
    "    _, red_mask = cv2.threshold(cv2.cvtColor(img_red, cv2.COLOR_BGR2GRAY), 0, 255, cv2.THRESH_BINARY)\n",
    "    \n",
    "    white_mask = mask_from_color(hsv, WHITE_LOWER, WHITE_UPPER, erode=1, dilate=4)\n",
    "    img_white = cv2.bitwise_and(img_ground, img_ground, mask = white_mask)\n",
    "    _, white_mask = cv2.threshold(cv2.cvtColor(img_white, cv2.COLOR_BGR2GRAY), 0, 255, cv2.THRESH_BINARY)\n",
    "    \n",
    "    cnts, _ = cv2.findContours(red_mask, cv2.RETR_EXTERNAL, cv2.CHAIN_APPROX_SIMPLE)\n",
    "    for cnt in cnts:\n",
    "        area = cv2.contourArea(cnt)\n",
    "        if area > 1500:\n",
    "            (x, y, w, h) = cv2.boundingRect(cnt)\n",
    "            cv2.rectangle(players_mask, (x, y), (x+w, y+h), 255, -1)\n",
    "\n",
    "    cnts, _ = cv2.findContours(white_mask, cv2.RETR_EXTERNAL, cv2.CHAIN_APPROX_SIMPLE)\n",
    "    for cnt in cnts:\n",
    "        area = cv2.contourArea(cnt)\n",
    "        if area > 1500:\n",
    "            (x, y, w, h) = cv2.boundingRect(cnt)\n",
    "            cv2.rectangle(players_mask, (x, y), (x+w, y+h), 255, -1)\n",
    "            \n",
    "#     output = np.vstack([np.hstack([img, img_ground]), \n",
    "#                                     np.hstack([img_red, img_white])])\n",
    "\n",
    "    img_players = cv2.bitwise_and(img, img, mask = players_mask)\n",
    "    output = np.hstack([img, img_players])\n",
    "    cv2.imshow('output', output)\n",
    "    \n",
    "    if cv2.waitKey(25) & 0xFF == ord('q'):\n",
    "        break\n",
    "\n",
    "cap.release()\n",
    "cv2.destroyAllWindows()"
   ]
  },
  {
   "cell_type": "code",
   "execution_count": null,
   "metadata": {},
   "outputs": [],
   "source": []
  }
 ],
 "metadata": {
  "kernelspec": {
   "display_name": "Python 3",
   "language": "python",
   "name": "python3"
  },
  "language_info": {
   "codemirror_mode": {
    "name": "ipython",
    "version": 3
   },
   "file_extension": ".py",
   "mimetype": "text/x-python",
   "name": "python",
   "nbconvert_exporter": "python",
   "pygments_lexer": "ipython3",
   "version": "3.7.6"
  }
 },
 "nbformat": 4,
 "nbformat_minor": 4
}
